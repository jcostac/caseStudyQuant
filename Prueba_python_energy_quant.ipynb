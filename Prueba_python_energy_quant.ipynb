{
 "cells": [
  {
   "cell_type": "markdown",
   "metadata": {},
   "source": [
    "## PRUEBA DE CONOCIMIENTOS"
   ]
  },
  {
   "cell_type": "markdown",
   "metadata": {},
   "source": [
    "### Ejercicio 1: \n",
    "Trabajando con la API de ESIOS (Documentación --> https://api.esios.ree.es/) crear una función que descargue el precio horario (indicador 600) de España desde el 01/01/2020 con granularidad horaria. Crea una gráfica con el resultado.\n",
    "\n",
    "Se necesitará un token para hacer peticiones a la API, puedes usar el siguiente: 0d31017ec920c6daa1c1ecfcb0fe166574f370ac7908674cdffcc5015500daea"
   ]
  },
  {
   "cell_type": "markdown",
   "metadata": {},
   "source": [
    "### Ejercicio 2: \n",
    "\n",
    "Crear una app (sencilla) con la libreria Dash (https://dash.plotly.com/) donde puedas seleccionar un rango de fechas y que te gráfique el precio de España del Ejercicio 1.\n",
    "Incluye un par de indicadores tecnicos que puedas agregar a esa gráfica (cruece de medias, bandas de bollinger, etc.) si los seleccionas."
   ]
  },
  {
   "cell_type": "markdown",
   "metadata": {},
   "source": [
    "### Ejercicio 3:\n",
    "\n",
    "Crea un modelo de optimización sencillo de carga y descarga para una bateria en el mercado diario usando los precios del Ejercicio 1.\n",
    "\n",
    "Usa las caracteristicas de la batería que estimes oportunas.\n",
    "\n",
    "Saca los datos de ingresos brutos (€/MW y €/MWh) por mes/año y graficalo como consideres."
   ]
  },
  {
   "cell_type": "markdown",
   "metadata": {},
   "source": [
    "## SE VALORARÁ TANTO LA EJECUCIÓN DEL CODIGO COMO LOS GRÁFICOS APORTADOS"
   ]
  },
  {
   "cell_type": "code",
   "execution_count": null,
   "metadata": {
    "vscode": {
     "languageId": "plaintext"
    }
   },
   "outputs": [],
   "source": []
  }
 ],
 "metadata": {
  "kernelspec": {
   "display_name": "Python 3",
   "language": "python",
   "name": "python3"
  },
  "language_info": {
   "codemirror_mode": {
    "name": "ipython",
    "version": 3
   },
   "file_extension": ".py",
   "mimetype": "text/x-python",
   "name": "python",
   "nbconvert_exporter": "python",
   "pygments_lexer": "ipython3",
   "version": "3.10.5"
  }
 },
 "nbformat": 4,
 "nbformat_minor": 2
}
